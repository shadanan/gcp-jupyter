{
 "cells": [
  {
   "cell_type": "markdown",
   "metadata": {},
   "source": [
    "# Setup"
   ]
  },
  {
   "cell_type": "code",
   "execution_count": 1,
   "metadata": {},
   "outputs": [],
   "source": [
    "from google.cloud import asset_v1, securitycenter_v1"
   ]
  },
  {
   "cell_type": "code",
   "execution_count": 2,
   "metadata": {},
   "outputs": [],
   "source": [
    "scc_client = securitycenter_v1.SecurityCenterClient()\n",
    "cai_client = asset_v1.AssetServiceClient()"
   ]
  },
  {
   "cell_type": "markdown",
   "metadata": {},
   "source": [
    "# Functions"
   ]
  },
  {
   "cell_type": "code",
   "execution_count": 3,
   "metadata": {},
   "outputs": [],
   "source": [
    "def get_scc_asset(resource_name):\n",
    "    maybe_asset = list(\n",
    "        scc_client.list_assets(\n",
    "            securitycenter_v1.ListAssetsRequest(\n",
    "                parent=\"organizations/129624834409\",\n",
    "                filter=f'security_center_properties.resource_name = \"{resource_name}\"',\n",
    "            )\n",
    "        )\n",
    "    )\n",
    "    if len(maybe_asset) == 1:\n",
    "        return maybe_asset[0]"
   ]
  },
  {
   "cell_type": "code",
   "execution_count": 4,
   "metadata": {},
   "outputs": [],
   "source": [
    "def get_cai_asset_name(scc_asset):\n",
    "    scc_properties = scc_asset.asset.security_center_properties\n",
    "    if scc_properties.resource_type == \"google.compute.Instance\":\n",
    "        return \"/\".join(\n",
    "            [\n",
    "                scc_properties.resource_name.rsplit(\"/\", 1)[0],\n",
    "                scc_properties.resource_display_name,\n",
    "            ]\n",
    "        )\n",
    "    return scc_properties.resource_name"
   ]
  },
  {
   "cell_type": "code",
   "execution_count": 5,
   "metadata": {},
   "outputs": [],
   "source": [
    "def get_cai_asset(cai_asset_name):\n",
    "    maybe_asset = list(\n",
    "        cai_client.search_all_resources(\n",
    "            asset_v1.SearchAllResourcesRequest(\n",
    "                scope=\"organizations/129624834409\",\n",
    "                query=f'name=\"{cai_asset_name}\"',\n",
    "                page_size=1000,\n",
    "            )\n",
    "        )\n",
    "    )\n",
    "    if len(maybe_asset) == 1:\n",
    "        return maybe_asset[0]"
   ]
  },
  {
   "cell_type": "markdown",
   "metadata": {},
   "source": [
    "# Get all findings associated with instances"
   ]
  },
  {
   "cell_type": "code",
   "execution_count": 6,
   "metadata": {},
   "outputs": [],
   "source": [
    "scc_instance_findings = list(\n",
    "    scc_client.list_findings(\n",
    "        securitycenter_v1.ListFindingsRequest(\n",
    "            parent=\"organizations/129624834409/sources/-\",\n",
    "            filter='state=\"ACTIVE\" AND resource_name:\"/instances/\"',\n",
    "            page_size=1000,\n",
    "        )\n",
    "    )\n",
    ")"
   ]
  },
  {
   "cell_type": "markdown",
   "metadata": {},
   "source": [
    "# Pick an instance finding at random"
   ]
  },
  {
   "cell_type": "code",
   "execution_count": 12,
   "metadata": {},
   "outputs": [
    {
     "data": {
      "text/plain": [
       "name: \"//compute.googleapis.com/projects/projectinfolder-259022/zones/us-central1-a/instances/1794584243532877577\"\n",
       "project_name: \"//cloudresourcemanager.googleapis.com/projects/927112907303\"\n",
       "project_display_name: \"projectinfolder-259022\"\n",
       "parent_name: \"//cloudresourcemanager.googleapis.com/projects/927112907303\"\n",
       "parent_display_name: \"projectinfolder-259022\""
      ]
     },
     "execution_count": 12,
     "metadata": {},
     "output_type": "execute_result"
    }
   ],
   "source": [
    "finding = scc_instance_findings[100]\n",
    "finding.resource"
   ]
  },
  {
   "cell_type": "markdown",
   "metadata": {},
   "source": [
    "# Get the associated SCC asset"
   ]
  },
  {
   "cell_type": "code",
   "execution_count": 16,
   "metadata": {},
   "outputs": [
    {
     "data": {
      "text/plain": [
       "resource_name: \"//compute.googleapis.com/projects/projectinfolder-259022/zones/us-central1-a/instances/1794584243532877577\"\n",
       "resource_type: \"google.compute.Instance\"\n",
       "resource_parent: \"//cloudresourcemanager.googleapis.com/projects/927112907303\"\n",
       "resource_project: \"//cloudresourcemanager.googleapis.com/projects/927112907303\"\n",
       "resource_owners: \"user:fwparker@google.com\"\n",
       "resource_display_name: \"maybe-public\"\n",
       "resource_parent_display_name: \"projectinfolder-259022\"\n",
       "resource_project_display_name: \"projectinfolder-259022\""
      ]
     },
     "execution_count": 16,
     "metadata": {},
     "output_type": "execute_result"
    }
   ],
   "source": [
    "scc_asset = get_scc_asset(finding.resource.name)\n",
    "scc_asset.asset.security_center_properties"
   ]
  },
  {
   "cell_type": "markdown",
   "metadata": {},
   "source": [
    "# Construct the CAI asset name using the SCC asset resource properties"
   ]
  },
  {
   "cell_type": "code",
   "execution_count": 18,
   "metadata": {},
   "outputs": [
    {
     "data": {
      "text/plain": [
       "'//compute.googleapis.com/projects/projectinfolder-259022/zones/us-central1-a/instances/maybe-public'"
      ]
     },
     "execution_count": 18,
     "metadata": {},
     "output_type": "execute_result"
    }
   ],
   "source": [
    "cai_asset_name = get_cai_asset_name(scc_asset)\n",
    "cai_asset_name"
   ]
  },
  {
   "cell_type": "markdown",
   "metadata": {},
   "source": [
    "# Retrieve the corresponding CAI asset"
   ]
  },
  {
   "cell_type": "code",
   "execution_count": 19,
   "metadata": {},
   "outputs": [],
   "source": [
    "cai_asset = get_cai_asset(cai_asset_name)"
   ]
  },
  {
   "cell_type": "code",
   "execution_count": 20,
   "metadata": {},
   "outputs": [
    {
     "data": {
      "text/plain": [
       "name: \"//compute.googleapis.com/projects/projectinfolder-259022/zones/us-central1-a/instances/maybe-public\"\n",
       "asset_type: \"compute.googleapis.com/Instance\"\n",
       "project: \"projects/927112907303\"\n",
       "display_name: \"maybe-public\"\n",
       "location: \"us-central1-a\"\n",
       "additional_attributes {\n",
       "  fields {\n",
       "    key: \"networkInterfaces\"\n",
       "    value {\n",
       "      list_value {\n",
       "        values {\n",
       "          struct_value {\n",
       "            fields {\n",
       "              key: \"network\"\n",
       "              value {\n",
       "                string_value: \"https://www.googleapis.com/compute/v1/projects/projectinfolder-259022/global/networks/default\"\n",
       "              }\n",
       "            }\n",
       "            fields {\n",
       "              key: \"networkIP\"\n",
       "              value {\n",
       "                string_value: \"10.128.0.2\"\n",
       "              }\n",
       "            }\n",
       "          }\n",
       "        }\n",
       "      }\n",
       "    }\n",
       "  }\n",
       "}"
      ]
     },
     "execution_count": 20,
     "metadata": {},
     "output_type": "execute_result"
    }
   ],
   "source": [
    "cai_asset"
   ]
  }
 ],
 "metadata": {
  "kernelspec": {
   "display_name": "Python 3",
   "language": "python",
   "name": "python3"
  },
  "language_info": {
   "codemirror_mode": {
    "name": "ipython",
    "version": 3
   },
   "file_extension": ".py",
   "mimetype": "text/x-python",
   "name": "python",
   "nbconvert_exporter": "python",
   "pygments_lexer": "ipython3",
   "version": "3.9.4"
  }
 },
 "nbformat": 4,
 "nbformat_minor": 4
}
